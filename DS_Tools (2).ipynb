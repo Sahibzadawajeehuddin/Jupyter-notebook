{
 "cells": [
  {
   "cell_type": "markdown",
   "id": "67170ddc-e3a1-4d36-b1bb-56f584e9a1cb",
   "metadata": {},
   "source": [
    "# Data Science Tools Section for IBM Professional Certificate "
   ]
  },
  {
   "cell_type": "markdown",
   "id": "f8b6e3cb-9d6e-4e6f-a8b8-565e260d433b",
   "metadata": {},
   "source": [
    "### This is my first assigment in IBM data science professional certificate , follow this notebook because have a important information in data science tools"
   ]
  },
  {
   "cell_type": "markdown",
   "id": "88aff941-dde3-42d4-89e9-c70708652314",
   "metadata": {},
   "source": [
    "## Data Science Languages : \n",
    "1. **python**\n",
    "2. **R**\n",
    "3. **SQL**\n",
    "4. **Julia**\n",
    "5. **Scala**\n",
    "6. **Java**"
   ]
  },
  {
   "cell_type": "markdown",
   "id": "9b4311ed-02a6-4505-bf98-b764275bcd54",
   "metadata": {},
   "source": [
    "## Data Science Libraries : \n",
    "1. **numpy**\n",
    "2. **pandas**\n",
    "3. **scikit-learn**\n",
    "4. **matplotlib**\n",
    "5. **seaborn**\n",
    "6. **tensorflow**\n",
    "7. **pytorch**"
   ]
  },
  {
   "cell_type": "markdown",
   "id": "bb83e78d-abdc-4a83-964a-43fab398f8ca",
   "metadata": {},
   "source": [
    "## Data Science Tools\n",
    "| Tool | Description |\n",
    "|------------------|-----------------------------------------------|\n",
    "| **Jupyter Notebook** | Interactive environment for writing and executing code and analyzing data. |\n",
    "| **RStudio**       | Integrated Development Environment (IDE) for R, mainly used for statistical analysis. |\n",
    "| **Apache Spark**  | Framework for big data processing with high speed and efficiency. |\n",
    "| **Tableau**       | Powerful tool for creating interactive visualizations. |\n",
    "| **Power BI**      | Business intelligence platform for data analysis and visualization. |\n",
    "| **Google Colab**  | Cloud-based environment that allows running Python code easily. |\n"
   ]
  },
  {
   "cell_type": "markdown",
   "id": "471baf1e-c467-491b-baf3-7631abdc66ee",
   "metadata": {},
   "source": [
    "### Arithmetic Expression Examples ➗✖️➕  \n",
    "\n",
    "In this section, we will explore some basic arithmetic expressions used in programming:\n",
    "\n",
    "- **Addition (+):** Adds two numbers together.  \n",
    "  Example: `5 + 3 = 8`\n",
    "  \n",
    "- **Subtraction (-):** Subtracts one number from another.  \n",
    "  Example: `9 - 4 = 5`\n",
    "  \n",
    "- **Multiplication (*):** Multiplies two numbers.  \n",
    "  Example: `6 * 7 = 42`\n",
    "  \n",
    "- **Division (/):** Divides one number by another.  \n",
    "  Example: `10 / 2 = 5`\n",
    "  \n",
    "- **Modulus (%):** Returns the remainder when one number is divided by another.  \n",
    "  Example: `10 % 3 = 1`\n",
    "  \n",
    "- **Exponentiation (**):** Raises one number to the power of another.  \n",
    "  Example: `2 ** 3 = 8`\n"
   ]
  },
  {
   "cell_type": "markdown",
   "id": "27e1c54c-7885-4284-9ddb-9998972a198a",
   "metadata": {},
   "source": [
    "### Multiply and Addition code"
   ]
  },
  {
   "cell_type": "code",
   "execution_count": 2,
   "id": "0ed6eee5-31f0-4b25-a67a-b5f15bd2c1b7",
   "metadata": {},
   "outputs": [
    {
     "name": "stdout",
     "output_type": "stream",
     "text": [
      "15\n"
     ]
    },
    {
     "data": {
      "text/plain": [
       "8"
      ]
     },
     "execution_count": 2,
     "metadata": {},
     "output_type": "execute_result"
    }
   ],
   "source": [
    "num1=3\n",
    "num2=5\n",
    "\n",
    "mul=num1*num2\n",
    "print(mul)\n",
    "\n",
    "add=num1+num2\n",
    "add"
   ]
  },
  {
   "cell_type": "markdown",
   "id": "07157308-d6ff-4feb-b06d-4b364622ae07",
   "metadata": {},
   "source": [
    "### Convert Minutes to Hours code"
   ]
  },
  {
   "cell_type": "code",
   "execution_count": 5,
   "id": "2c0a5bb2-dae2-4549-a5ff-c915c4ea7769",
   "metadata": {},
   "outputs": [
    {
     "name": "stdout",
     "output_type": "stream",
     "text": [
      "2.0\n"
     ]
    },
    {
     "name": "stdin",
     "output_type": "stream",
     "text": [
      "input number of minutes 120\n"
     ]
    },
    {
     "data": {
      "text/plain": [
       "2.0"
      ]
     },
     "execution_count": 5,
     "metadata": {},
     "output_type": "execute_result"
    }
   ],
   "source": [
    "minutes = 120\n",
    "hours=minutes/60\n",
    "print(hours)\n",
    "\n",
    "#for efficiency using this code in another code editor or IDEs , because juputerlite not work in input function\n",
    "minutes=int(input(\"input number of minutes\"))\n",
    "hours=minutes / 60\n",
    "hours"
   ]
  },
  {
   "cell_type": "markdown",
   "id": "f9bcc1b6-89ac-45d7-839b-f3f8ddd21882",
   "metadata": {},
   "source": [
    "### 📌 Objectives  \n",
    "\n",
    "In this section, we will focus on the main objectives of this project:  \n",
    "\n",
    "1. 📖 Learn how to use **Markdown** to create structured notes in Jupyter Notebook.  \n",
    "2. 🖥️ Understand the **languages and tools of Data Science** used in analysis and machine learning.  \n",
    "3. 🛠️ Perform arithmetic operations using **Python** in code cells.  \n",
    "4. 🔢 Learn how to convert **time units** (e.g., minutes to hours).  \n",
    "5. 🔄 Share the **project via GitHub** for accessibility.  \n",
    "\n",
    "✅ These objectives will help us understand **Data Science concepts** and use **Jupyter Notebook** efficiently! 🚀\n"
   ]
  },
  {
   "cell_type": "markdown",
   "id": "1dc5aacc-ac0e-41c7-aefc-736c9dde8315",
   "metadata": {},
   "source": [
    "### ✍️ Author  \n",
    "\n",
    "**Name:** Sahibzada Wajeeh Uddin \n"
   ]
  }
 ],
 "metadata": {
  "kernelspec": {
   "display_name": "Python 3 (ipykernel)",
   "language": "python",
   "name": "python3"
  },
  "language_info": {
   "codemirror_mode": {
    "name": "ipython",
    "version": 3
   },
   "file_extension": ".py",
   "mimetype": "text/x-python",
   "name": "python",
   "nbconvert_exporter": "python",
   "pygments_lexer": "ipython3",
   "version": "3.12.8"
  }
 },
 "nbformat": 4,
 "nbformat_minor": 5
}
